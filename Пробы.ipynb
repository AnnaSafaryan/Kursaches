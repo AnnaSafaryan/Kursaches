{
  "nbformat": 4,
  "nbformat_minor": 0,
  "metadata": {
    "colab": {
      "provenance": [],
      "mount_file_id": "1CvkS2uvdCpdNtzSw8uGa1m3qlJv7HF23",
      "authorship_tag": "ABX9TyP/+z+32yPODI5HEZUZJq+V",
      "include_colab_link": true
    },
    "kernelspec": {
      "name": "python3",
      "display_name": "Python 3"
    },
    "language_info": {
      "name": "python"
    }
  },
  "cells": [
    {
      "cell_type": "markdown",
      "metadata": {
        "id": "view-in-github",
        "colab_type": "text"
      },
      "source": [
        "<a href=\"https://colab.research.google.com/github/AnnaSafaryan/Kursaches/blob/Evgrafova/%D0%9F%D1%80%D0%BE%D0%B1%D1%8B.ipynb\" target=\"_parent\"><img src=\"https://colab.research.google.com/assets/colab-badge.svg\" alt=\"Open In Colab\"/></a>"
      ]
    },
    {
      "cell_type": "code",
      "source": [
        "!pip install umap-learn"
      ],
      "metadata": {
        "colab": {
          "base_uri": "https://localhost:8080/"
        },
        "id": "t-m5UcshWIJb",
        "outputId": "d2d5bbec-dbb2-4a18-8b5a-d173783a481d"
      },
      "execution_count": 1,
      "outputs": [
        {
          "output_type": "stream",
          "name": "stdout",
          "text": [
            "Requirement already satisfied: umap-learn in /usr/local/lib/python3.11/dist-packages (0.5.7)\n",
            "Requirement already satisfied: numpy>=1.17 in /usr/local/lib/python3.11/dist-packages (from umap-learn) (1.26.4)\n",
            "Requirement already satisfied: scipy>=1.3.1 in /usr/local/lib/python3.11/dist-packages (from umap-learn) (1.13.1)\n",
            "Requirement already satisfied: scikit-learn>=0.22 in /usr/local/lib/python3.11/dist-packages (from umap-learn) (1.6.1)\n",
            "Requirement already satisfied: numba>=0.51.2 in /usr/local/lib/python3.11/dist-packages (from umap-learn) (0.61.0)\n",
            "Requirement already satisfied: pynndescent>=0.5 in /usr/local/lib/python3.11/dist-packages (from umap-learn) (0.5.13)\n",
            "Requirement already satisfied: tqdm in /usr/local/lib/python3.11/dist-packages (from umap-learn) (4.67.1)\n",
            "Requirement already satisfied: llvmlite<0.45,>=0.44.0dev0 in /usr/local/lib/python3.11/dist-packages (from numba>=0.51.2->umap-learn) (0.44.0)\n",
            "Requirement already satisfied: joblib>=0.11 in /usr/local/lib/python3.11/dist-packages (from pynndescent>=0.5->umap-learn) (1.4.2)\n",
            "Requirement already satisfied: threadpoolctl>=3.1.0 in /usr/local/lib/python3.11/dist-packages (from scikit-learn>=0.22->umap-learn) (3.5.0)\n"
          ]
        }
      ]
    },
    {
      "cell_type": "markdown",
      "source": [
        "# Фразы"
      ],
      "metadata": {
        "id": "Tq_-nTe8ZjVI"
      }
    },
    {
      "cell_type": "markdown",
      "source": [
        "## Мало"
      ],
      "metadata": {
        "id": "hgoVNA5YaYRE"
      }
    },
    {
      "cell_type": "code",
      "source": [
        "phrases_short = [\n",
        "    \"from A to Z\", \"от А до Я\",\n",
        "    \"from head to foot\", \"from head to feet\", \"с головы до ног\",\n",
        "    \"on the off-chance\", \"на авось\",\n",
        "    \"at a loss\", \"в растерянности\",\n",
        "    \"on fire\", \"в ударе\", \"на высоте\",\n",
        "    \"under lock and key\", \"за семью печатями\",\n",
        "    \"out of the blue\", \"гром среди ясного неба\",\n",
        "    \"in the flesh\", \"собственной персоной\",\n",
        "    \"in the long run\", \"off and on\"\n",
        "]"
      ],
      "metadata": {
        "id": "mj-PF0P8UKdO"
      },
      "execution_count": 2,
      "outputs": []
    },
    {
      "cell_type": "code",
      "source": [
        "# Полное совпадение по семантике и структуре\n",
        "full_match_short = {\n",
        "    \"from A to Z\": \"от А до Я\",\n",
        "    \"from head to foot\": \"с головы до ног\",\n",
        "    # \"from head to feet\": \"с головы до ног\",\n",
        "    \"on the off-chance\": \"на авось\",\n",
        "    \"at a loss\": \"в растерянности\"\n",
        "}\n",
        "\n",
        "# Частичное совпадение по семантике и структуре\n",
        "partial_match_short = {\n",
        "    \"on fire\": \"в ударе\",  # схлопывается\n",
        "    \"on fire\": \"на высоте\",\n",
        "    \"under lock and key\": \"за семью печатями\",\n",
        "    \"out of the blue\": \"гром среди ясного неба\",\n",
        "    \"in the flesh\": \"собственной персоной\"\n",
        "}\n",
        "\n",
        "# Фразеологизмы без аналогов в другом языке\n",
        "no_match_short = {\n",
        "    \"in the long run\": None,\n",
        "    \"off and on\": None\n",
        "}"
      ],
      "metadata": {
        "id": "F-qSNNyTHDVs"
      },
      "execution_count": 3,
      "outputs": []
    },
    {
      "cell_type": "markdown",
      "source": [
        "## Много"
      ],
      "metadata": {
        "id": "KK1Ap3toaU6f"
      }
    },
    {
      "cell_type": "code",
      "source": [
        "import csv"
      ],
      "metadata": {
        "id": "bNON5RluOMfz"
      },
      "execution_count": 4,
      "outputs": []
    },
    {
      "cell_type": "code",
      "source": [
        "prefix = '/content/drive/MyDrive/Colab Notebooks/Евграфова'"
      ],
      "metadata": {
        "id": "xli8QL1QeB85"
      },
      "execution_count": 5,
      "outputs": []
    },
    {
      "cell_type": "code",
      "source": [
        "def parse_file(prefix, filename):\n",
        "    full_match_list = []\n",
        "    partial_match_list = []\n",
        "    no_match_list = []\n",
        "\n",
        "    with open(f\"{prefix}/{filename}\", mode=\"r\", encoding=\"utf-8\") as file:\n",
        "        reader = csv.DictReader(file, delimiter=\"\\t\")\n",
        "        for row in reader:\n",
        "            if row['label'] == \"+\":\n",
        "                full_match_list.append(row[\"phrase\"])\n",
        "            elif row['label'] == \"-\":\n",
        "                partial_match_list.append(row[\"phrase\"])\n",
        "            else:\n",
        "                no_match_list.append(row[\"phrase\"])\n",
        "    return full_match_list, partial_match_list, no_match_list"
      ],
      "metadata": {
        "id": "Zd26ehSVc9xL"
      },
      "execution_count": 6,
      "outputs": []
    },
    {
      "cell_type": "code",
      "source": [
        "full_match_en, partial_match_en, no_match_en = parse_file(prefix, \"en.tsv\")\n",
        "full_match_ru, partial_match_ru, no_match_ru = parse_file(prefix, \"ru.tsv\")"
      ],
      "metadata": {
        "id": "Juh9ie6mZZh_"
      },
      "execution_count": 7,
      "outputs": []
    },
    {
      "cell_type": "code",
      "source": [
        "phrases_long = full_match_en + partial_match_en + no_match_en + full_match_ru + partial_match_ru + no_match_ru\n",
        "full_match_long = dict(zip(full_match_en, full_match_ru))\n",
        "partial_match_long = dict(zip(partial_match_en, partial_match_ru))\n",
        "no_match_long = {k: None for k in partial_match_en + partial_match_ru}"
      ],
      "metadata": {
        "id": "s37xJ6Cecyl5"
      },
      "execution_count": 8,
      "outputs": []
    },
    {
      "cell_type": "markdown",
      "source": [
        "# Импорты"
      ],
      "metadata": {
        "id": "V5dCC_GCZroz"
      }
    },
    {
      "cell_type": "code",
      "source": [
        "from sentence_transformers import SentenceTransformer, util\n",
        "from sklearn.cluster import KMeans\n",
        "import numpy as np\n",
        "import umap.umap_ as umap\n",
        "from collections import defaultdict"
      ],
      "metadata": {
        "id": "wAvPQSjzysfk"
      },
      "execution_count": 9,
      "outputs": []
    },
    {
      "cell_type": "markdown",
      "source": [
        "# Эксперименты"
      ],
      "metadata": {
        "id": "VCtT7xtwZvjn"
      }
    },
    {
      "cell_type": "markdown",
      "source": [
        "## Косинусная близость"
      ],
      "metadata": {
        "id": "lCY5fzsnVZwU"
      }
    },
    {
      "cell_type": "code",
      "source": [
        "def encode(match_dict):\n",
        "    phrases_1 = list(match_dict.keys())\n",
        "    phrases_2 = list(match_dict.values())\n",
        "    embeddings_1 = model.encode(phrases_1, normalize_embeddings=True)\n",
        "    embeddings_2 = model.encode(phrases_2, normalize_embeddings=True)\n",
        "    return phrases_1, phrases_2, embeddings_1, embeddings_2"
      ],
      "metadata": {
        "id": "RPe3swNKIsca"
      },
      "execution_count": 10,
      "outputs": []
    },
    {
      "cell_type": "code",
      "source": [
        "def predict(phrases_1, phrases_2, embeddings_1, embeddings_2):\n",
        "    ranks = []\n",
        "\n",
        "    for i, phrase in enumerate(phrases_1):\n",
        "        true_phrase = phrases_2[i]\n",
        "\n",
        "        similarities = util.pytorch_cos_sim(embeddings_1[i], embeddings_2)\n",
        "        best_match = phrases_2[similarities.argmax()]\n",
        "        print(f\"{phrase} = {true_phrase} → {best_match} (близость: {similarities.max():.2f})\")\n",
        "        # print(similarities, phrases_2)\n",
        "        sorted_indices = similarities.argsort(descending=True).tolist()[0]\n",
        "        # print(sorted_indices)\n",
        "        ranks.append(sorted_indices.index(i) + 1)\n",
        "        # print()\n",
        "    print(sum(ranks) / len(ranks))  # идеально -- 1, чем больше ранг, тем хуже, т.к. правильный результат опускается ниже в рейтинге вариантов"
      ],
      "metadata": {
        "id": "TE1az7Uvy9W-"
      },
      "execution_count": 11,
      "outputs": []
    },
    {
      "cell_type": "code",
      "source": [
        "def compare(match_dict):\n",
        "    en_phrases, ru_phrases, en_embeddings, ru_embeddings = encode(match_dict)\n",
        "    # print(en_phrases)\n",
        "    # print(ru_phrases)\n",
        "    # print()\n",
        "\n",
        "    predict(en_phrases, ru_phrases, en_embeddings, ru_embeddings)\n",
        "    print('\\n__________________________________\\n')\n",
        "    predict(ru_phrases, en_phrases, ru_embeddings, en_embeddings)"
      ],
      "metadata": {
        "id": "Z-D26eVrKj3x"
      },
      "execution_count": 12,
      "outputs": []
    },
    {
      "cell_type": "code",
      "source": [
        "model = SentenceTransformer(\"sentence-transformers/LaBSE\")"
      ],
      "metadata": {
        "colab": {
          "base_uri": "https://localhost:8080/"
        },
        "id": "A02Cy6piIe5X",
        "outputId": "d0cdd3a5-d34c-48d5-e197-27284f588178"
      },
      "execution_count": 13,
      "outputs": [
        {
          "output_type": "stream",
          "name": "stderr",
          "text": [
            "/usr/local/lib/python3.11/dist-packages/huggingface_hub/utils/_auth.py:94: UserWarning: \n",
            "The secret `HF_TOKEN` does not exist in your Colab secrets.\n",
            "To authenticate with the Hugging Face Hub, create a token in your settings tab (https://huggingface.co/settings/tokens), set it as secret in your Google Colab and restart your session.\n",
            "You will be able to reuse this secret in all of your notebooks.\n",
            "Please note that authentication is recommended but still optional to access public models or datasets.\n",
            "  warnings.warn(\n"
          ]
        }
      ]
    },
    {
      "cell_type": "markdown",
      "source": [
        "###  Мало"
      ],
      "metadata": {
        "id": "4pubX0Uqf1BV"
      }
    },
    {
      "cell_type": "code",
      "source": [
        "compare(full_match_short)"
      ],
      "metadata": {
        "colab": {
          "base_uri": "https://localhost:8080/"
        },
        "id": "hplJmGSAQoMy",
        "outputId": "1c4265b0-0bbf-4250-b07a-dbc5a0fccf74"
      },
      "execution_count": 14,
      "outputs": [
        {
          "output_type": "stream",
          "name": "stdout",
          "text": [
            "from A to Z = от А до Я → от А до Я (близость: 0.91)\n",
            "from head to foot = с головы до ног → с головы до ног (близость: 0.95)\n",
            "on the off-chance = на авось → на авось (близость: 0.68)\n",
            "at a loss = в растерянности → в растерянности (близость: 0.77)\n",
            "1.0\n",
            "\n",
            "__________________________________\n",
            "\n",
            "от А до Я = from A to Z → from A to Z (близость: 0.91)\n",
            "с головы до ног = from head to foot → from head to foot (близость: 0.95)\n",
            "на авось = on the off-chance → on the off-chance (близость: 0.68)\n",
            "в растерянности = at a loss → at a loss (близость: 0.77)\n",
            "1.0\n"
          ]
        }
      ]
    },
    {
      "cell_type": "code",
      "source": [
        "compare(partial_match_short)"
      ],
      "metadata": {
        "colab": {
          "base_uri": "https://localhost:8080/"
        },
        "id": "5e6orBGUXKFS",
        "outputId": "7b0e5c9e-d051-47b3-d8b1-e6f80e5e4640"
      },
      "execution_count": 15,
      "outputs": [
        {
          "output_type": "stream",
          "name": "stdout",
          "text": [
            "on fire = на высоте → на высоте (близость: 0.62)\n",
            "under lock and key = за семью печатями → за семью печатями (близость: 0.46)\n",
            "out of the blue = гром среди ясного неба → на высоте (близость: 0.51)\n",
            "in the flesh = собственной персоной → на высоте (близость: 0.52)\n",
            "1.75\n",
            "\n",
            "__________________________________\n",
            "\n",
            "на высоте = on fire → on fire (близость: 0.62)\n",
            "за семью печатями = under lock and key → out of the blue (близость: 0.47)\n",
            "гром среди ясного неба = out of the blue → out of the blue (близость: 0.46)\n",
            "собственной персоной = in the flesh → in the flesh (близость: 0.47)\n",
            "1.25\n"
          ]
        }
      ]
    },
    {
      "cell_type": "markdown",
      "source": [
        "###  Много"
      ],
      "metadata": {
        "id": "QqQhZj92gAPT"
      }
    },
    {
      "cell_type": "code",
      "source": [
        "compare(full_match_long)"
      ],
      "metadata": {
        "colab": {
          "base_uri": "https://localhost:8080/"
        },
        "outputId": "a4c75dc8-0932-4977-d3ed-9391cfb62c56",
        "id": "Y9MuAzixgAPU"
      },
      "execution_count": 16,
      "outputs": [
        {
          "output_type": "stream",
          "name": "stdout",
          "text": [
            "the alpha and omega = альфа и омега → альфа и омега (близость: 0.93)\n",
            "from A to Z = от А до Я → от А до Я (близость: 0.91)\n",
            "from head to feet = с головы до ног → с головы до ног (близость: 0.95)\n",
            "on the off-chance = на авось → на авось (близость: 0.68)\n",
            "at a loss = в растерянности → в растерянности (близость: 0.77)\n",
            "as the call, so the echo = как аукнется, так и откликнется → как аукнется, так и откликнется (близость: 0.67)\n",
            "on the run = на бегу → на бегу (близость: 0.94)\n",
            "to infinity = до бесконечности → до бесконечности (близость: 0.94)\n",
            "with flair = с блеском → с блеском (близость: 0.76)\n",
            "godforsaken = богом забытый → богом забытый (близость: 0.65)\n",
            "more or less = более или менее → более или менее (близость: 0.97)\n",
            "stardom sickness = звёздная болезнь → звёздная болезнь (близость: 0.90)\n",
            "powder keg = пороховая бочка → пороховая бочка (близость: 0.58)\n",
            "1.0\n",
            "\n",
            "__________________________________\n",
            "\n",
            "альфа и омега = the alpha and omega → the alpha and omega (близость: 0.93)\n",
            "от А до Я = from A to Z → from A to Z (близость: 0.91)\n",
            "с головы до ног = from head to feet → from head to feet (близость: 0.95)\n",
            "на авось = on the off-chance → on the run (близость: 0.70)\n",
            "в растерянности = at a loss → at a loss (близость: 0.77)\n",
            "как аукнется, так и откликнется = as the call, so the echo → as the call, so the echo (близость: 0.67)\n",
            "на бегу = on the run → on the run (близость: 0.94)\n",
            "до бесконечности = to infinity → to infinity (близость: 0.94)\n",
            "с блеском = with flair → with flair (близость: 0.76)\n",
            "богом забытый = godforsaken → godforsaken (близость: 0.65)\n",
            "более или менее = more or less → more or less (близость: 0.97)\n",
            "звёздная болезнь = stardom sickness → stardom sickness (близость: 0.90)\n",
            "пороховая бочка = powder keg → powder keg (близость: 0.58)\n",
            "1.0769230769230769\n"
          ]
        }
      ]
    },
    {
      "cell_type": "code",
      "source": [
        "compare(partial_match_long)"
      ],
      "metadata": {
        "colab": {
          "base_uri": "https://localhost:8080/"
        },
        "outputId": "47e49c31-9869-406f-d246-158773142a6d",
        "id": "Y3T6uZLJgAPU"
      },
      "execution_count": 17,
      "outputs": [
        {
          "output_type": "stream",
          "name": "stdout",
          "text": [
            "on fire = в ударе → в ажуре (близость: 0.65)\n",
            "under lock and key = за семью печатями → за семью печатями (близость: 0.46)\n",
            "out of the blue = гром среди ясного неба → в ажуре (близость: 0.57)\n",
            "in the flesh = собственной персоной → в ажуре (близость: 0.64)\n",
            "bark the wrong tree = не по адресу → не по адресу (близость: 0.41)\n",
            "tiptop = в ажуре → в ударе (близость: 0.52)\n",
            "highlight key points = расставить акценты → расставить акценты (близость: 0.69)\n",
            "dead weight = тяжёлая артиллерия → до гроба (близость: 0.48)\n",
            "better a small fish than an empty dish = на безрыбье и рак рыба → на безрыбье и рак рыба (близость: 0.49)\n",
            "warm and fuzzy = белый и пушистый → белый и пушистый (близость: 0.70)\n",
            "for a song = за бесценок → за бесценок (близость: 0.53)\n",
            "fool around = играть в бирюльки → в ажуре (близость: 0.54)\n",
            "god knows = видит бог → видит бог (близость: 0.80)\n",
            "till the grave = до гроба → до гроба (близость: 0.94)\n",
            "1.7857142857142858\n",
            "\n",
            "__________________________________\n",
            "\n",
            "в ударе = on fire → on fire (близость: 0.65)\n",
            "за семью печатями = under lock and key → out of the blue (близость: 0.47)\n",
            "гром среди ясного неба = out of the blue → out of the blue (близость: 0.46)\n",
            "собственной персоной = in the flesh → in the flesh (близость: 0.47)\n",
            "не по адресу = bark the wrong tree → on fire (близость: 0.43)\n",
            "в ажуре = tiptop → on fire (близость: 0.65)\n",
            "расставить акценты = highlight key points → highlight key points (близость: 0.69)\n",
            "тяжёлая артиллерия = dead weight → dead weight (близость: 0.40)\n",
            "на безрыбье и рак рыба = better a small fish than an empty dish → warm and fuzzy (близость: 0.49)\n",
            "белый и пушистый = warm and fuzzy → warm and fuzzy (близость: 0.70)\n",
            "за бесценок = for a song → out of the blue (близость: 0.56)\n",
            "играть в бирюльки = fool around → fool around (близость: 0.51)\n",
            "видит бог = god knows → god knows (близость: 0.80)\n",
            "до гроба = till the grave → till the grave (близость: 0.94)\n",
            "1.7142857142857142\n"
          ]
        }
      ]
    },
    {
      "cell_type": "markdown",
      "source": [
        "## Кластеризация"
      ],
      "metadata": {
        "id": "ICRDeVjtTgmj"
      }
    },
    {
      "cell_type": "code",
      "source": [
        "model = SentenceTransformer(\"sentence-transformers/LaBSE\")"
      ],
      "metadata": {
        "id": "hE2c0mwJTsHS"
      },
      "execution_count": 18,
      "outputs": []
    },
    {
      "cell_type": "code",
      "source": [
        "# Кластеризация (возьмём 3 кластера, как в классификации)\n",
        "def clustering(embeddings):\n",
        "    num_clusters = 3\n",
        "    clustering_model = KMeans(n_clusters=num_clusters, random_state=42)\n",
        "    clustering_model.fit(embeddings)\n",
        "    cluster_labels = clustering_model.labels_\n",
        "    return cluster_labels"
      ],
      "metadata": {
        "id": "VhxJwOLVUqXp"
      },
      "execution_count": 19,
      "outputs": []
    },
    {
      "cell_type": "code",
      "source": [
        "def list_clusters(cluster_labels, phrases):\n",
        "    cluster_dict = defaultdict(list)\n",
        "    for phrase, label in zip(phrases, cluster_labels):\n",
        "        cluster_dict[label].append(phrase)\n",
        "    return cluster_dict"
      ],
      "metadata": {
        "id": "iNh-KZV1Y34D"
      },
      "execution_count": 20,
      "outputs": []
    },
    {
      "cell_type": "code",
      "source": [
        "def predict(phrases):\n",
        "    embeddings = model.encode(phrases)\n",
        "    embeddings = umap.UMAP(n_components=2, random_state=42).fit_transform(embeddings)\n",
        "    cluster_labels = clustering(embeddings)\n",
        "    return cluster_labels"
      ],
      "metadata": {
        "id": "jIF6GgTuav2A"
      },
      "execution_count": 21,
      "outputs": []
    },
    {
      "cell_type": "markdown",
      "source": [
        "### Мало"
      ],
      "metadata": {
        "id": "Widng1WLTxZa"
      }
    },
    {
      "cell_type": "code",
      "source": [
        "%%time\n",
        "cluster_labels = predict(phrases_short)"
      ],
      "metadata": {
        "colab": {
          "base_uri": "https://localhost:8080/"
        },
        "id": "lX_a_UJkbQMW",
        "outputId": "b2e115c6-a526-40fe-8e03-0f85ce494f52"
      },
      "execution_count": 22,
      "outputs": [
        {
          "output_type": "stream",
          "name": "stderr",
          "text": [
            "/usr/local/lib/python3.11/dist-packages/sklearn/utils/deprecation.py:151: FutureWarning: 'force_all_finite' was renamed to 'ensure_all_finite' in 1.6 and will be removed in 1.8.\n",
            "  warnings.warn(\n",
            "/usr/local/lib/python3.11/dist-packages/umap/umap_.py:1952: UserWarning: n_jobs value 1 overridden to 1 by setting random_state. Use no seed for parallelism.\n",
            "  warn(\n"
          ]
        },
        {
          "output_type": "stream",
          "name": "stdout",
          "text": [
            "CPU times: user 17.5 s, sys: 1.61 s, total: 19.1 s\n",
            "Wall time: 28.7 s\n"
          ]
        }
      ]
    },
    {
      "cell_type": "code",
      "source": [
        "list_clusters(cluster_labels, phrases_short)"
      ],
      "metadata": {
        "colab": {
          "base_uri": "https://localhost:8080/"
        },
        "id": "2X8OGqcPXv0A",
        "outputId": "618de651-bab0-4a92-f93a-80c8a96694a2"
      },
      "execution_count": 23,
      "outputs": [
        {
          "output_type": "execute_result",
          "data": {
            "text/plain": [
              "defaultdict(list,\n",
              "            {1: ['from A to Z',\n",
              "              'от А до Я',\n",
              "              'from head to foot',\n",
              "              'from head to feet',\n",
              "              'с головы до ног',\n",
              "              'under lock and key',\n",
              "              'off and on'],\n",
              "             0: ['on the off-chance',\n",
              "              'at a loss',\n",
              "              'в растерянности',\n",
              "              'в ударе',\n",
              "              'за семью печатями',\n",
              "              'out of the blue',\n",
              "              'гром среди ясного неба'],\n",
              "             2: ['на авось',\n",
              "              'on fire',\n",
              "              'на высоте',\n",
              "              'in the flesh',\n",
              "              'собственной персоной',\n",
              "              'in the long run']})"
            ]
          },
          "metadata": {},
          "execution_count": 23
        }
      ]
    },
    {
      "cell_type": "markdown",
      "source": [
        "### Много"
      ],
      "metadata": {
        "id": "GNZWWORKbixc"
      }
    },
    {
      "cell_type": "code",
      "source": [
        "%%time\n",
        "cluster_labels = predict(phrases_long)"
      ],
      "metadata": {
        "colab": {
          "base_uri": "https://localhost:8080/"
        },
        "id": "R3YFTn1TdRTr",
        "outputId": "76c2735b-1a67-4b80-f237-fe1802ec6577"
      },
      "execution_count": 24,
      "outputs": [
        {
          "output_type": "stream",
          "name": "stderr",
          "text": [
            "/usr/local/lib/python3.11/dist-packages/sklearn/utils/deprecation.py:151: FutureWarning: 'force_all_finite' was renamed to 'ensure_all_finite' in 1.6 and will be removed in 1.8.\n",
            "  warnings.warn(\n",
            "/usr/local/lib/python3.11/dist-packages/umap/umap_.py:1952: UserWarning: n_jobs value 1 overridden to 1 by setting random_state. Use no seed for parallelism.\n",
            "  warn(\n"
          ]
        },
        {
          "output_type": "stream",
          "name": "stdout",
          "text": [
            "CPU times: user 3.76 s, sys: 25.4 ms, total: 3.79 s\n",
            "Wall time: 4.17 s\n"
          ]
        }
      ]
    },
    {
      "cell_type": "code",
      "source": [
        "list_clusters(cluster_labels, phrases_long)"
      ],
      "metadata": {
        "colab": {
          "base_uri": "https://localhost:8080/"
        },
        "id": "XgRe4wE7dU8w",
        "outputId": "549f81b3-683b-461f-ec43-fa72db5c8d18"
      },
      "execution_count": 25,
      "outputs": [
        {
          "output_type": "execute_result",
          "data": {
            "text/plain": [
              "defaultdict(list,\n",
              "            {2: ['the alpha and omega',\n",
              "              'as the call, so the echo',\n",
              "              'godforsaken',\n",
              "              'more or less',\n",
              "              'better a small fish than an empty dish',\n",
              "              'warm and fuzzy',\n",
              "              'god knows',\n",
              "              'альфа и омега',\n",
              "              'как аукнется, так и откликнется',\n",
              "              'богом забытый',\n",
              "              'более или менее',\n",
              "              'не по адресу',\n",
              "              'на безрыбье и рак рыба',\n",
              "              'белый и пушистый',\n",
              "              'видит бог',\n",
              "              'как в аптеке',\n",
              "              'не ахти сколько',\n",
              "              'не ахти какой',\n",
              "              'как баран на новые ворота',\n",
              "              'ни бе ни ме ни кукареку',\n",
              "              'пришла беда – отворяй ворота',\n",
              "              'белены объелся',\n",
              "              'бережёного бог бережёт',\n",
              "              'ни бельмеса',\n",
              "              'жёлтый билет',\n",
              "              'бог знает как',\n",
              "              'на бога надейся, а сам не плошай'],\n",
              "             1: ['from A to Z',\n",
              "              'from head to feet',\n",
              "              'on the off-chance',\n",
              "              'at a loss',\n",
              "              'on the run',\n",
              "              'to infinity',\n",
              "              'with flair',\n",
              "              'stardom sickness',\n",
              "              'on fire',\n",
              "              'under lock and key',\n",
              "              'out of the blue',\n",
              "              'in the flesh',\n",
              "              'tiptop',\n",
              "              'dead weight',\n",
              "              'for a song',\n",
              "              'till the grave',\n",
              "              'in the long run',\n",
              "              'off and on',\n",
              "              'under the weather',\n",
              "              'on the ball',\n",
              "              'once in a blue moon',\n",
              "              'от А до Я',\n",
              "              'с головы до ног',\n",
              "              'на авось',\n",
              "              'в растерянности',\n",
              "              'на бегу',\n",
              "              'до бесконечности',\n",
              "              'с блеском',\n",
              "              'в ударе',\n",
              "              'за семью печатями',\n",
              "              'собственной персоной',\n",
              "              'в ажуре',\n",
              "              'за бесценок',\n",
              "              'до гроба',\n",
              "              'по барабану',\n",
              "              'баш на баш',\n",
              "              'по блату',\n",
              "              'по боку'],\n",
              "             0: ['powder keg',\n",
              "              'bark the wrong tree',\n",
              "              'highlight key points',\n",
              "              'fool around',\n",
              "              'spill the beans',\n",
              "              'kick the bucket',\n",
              "              'bite the bullet',\n",
              "              'let the cat out of the bag',\n",
              "              'hit the nail on the head',\n",
              "              'burn the midnight oil',\n",
              "              'piece of cake',\n",
              "              'hit the sack',\n",
              "              'sit on the fence',\n",
              "              'go the extra mile',\n",
              "              'cry over spilled milk',\n",
              "              'the ball is in your court',\n",
              "              'jump on the bandwagon',\n",
              "              'shoot the breeze',\n",
              "              'go down a rabbit hole',\n",
              "              'wild goose chase',\n",
              "              'burn the candle at both ends',\n",
              "              'get a second wind',\n",
              "              'звёздная болезнь',\n",
              "              'пороховая бочка',\n",
              "              'гром среди ясного неба',\n",
              "              'расставить акценты',\n",
              "              'тяжёлая артиллерия',\n",
              "              'играть в бирюльки',\n",
              "              'бить баклуши',\n",
              "              'кисейная барышня',\n",
              "              'жить бирюком',\n",
              "              'метать бисер перед свиньями',\n",
              "              'рваться в бой',\n",
              "              'выйти боком',\n",
              "              'бред сивой кобылы']})"
            ]
          },
          "metadata": {},
          "execution_count": 25
        }
      ]
    }
  ]
}